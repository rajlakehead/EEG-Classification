{
 "cells": [
  {
   "cell_type": "code",
   "execution_count": 1,
   "id": "42d0a5de",
   "metadata": {},
   "outputs": [],
   "source": [
    "#!pip install \"httplib2 == 0.20.2\"\n",
    "# in AttributeError: module 'tensorflow' has no attribute 'gfile' --> tf.io.gfile\n",
    "# numpy >= 1.16.5\n",
    "# AttributeError: module 'tensorflow._api.v2.io.gfile' has no attribute 'Exists' -- > 'exists'\n",
    "# AttributeError: module 'tensorflow._api.v2.io.gfile' has no attribute 'MakeDirs' --> 'makedirs'\n",
    "# numpy >= 1.17 for matplotlib --> numpy 1.19.4\n",
    "import load_data\n",
    "\n",
    "from sklearn import svm\n",
    "import matplotlib.pyplot as plt\n",
    "import numpy as np\n",
    "from sklearn.metrics import confusion_matrix\n",
    "from sklearn import metrics\n",
    "import pickle\n",
    "import time\n",
    "from sklearn.utils import shuffle"
   ]
  },
  {
   "cell_type": "code",
   "execution_count": 2,
   "id": "a9384dbc",
   "metadata": {},
   "outputs": [],
   "source": [
    "# return DataSet class\n",
    "data = load_data.read_data_sets(one_hot=False)\n",
    "\n",
    "#BATCH_SIZE = 15\n",
    "# get train data and labels by batch size\n",
    "#train_x, train_label = data.train.next_batch(BATCH_SIZE)\n",
    "\n",
    "# get train data\n",
    "train_x = data.train.data\n",
    "\n",
    "# get train labels\n",
    "train_labels = data.train.labels\n",
    "\n",
    "# get test data\n",
    "test_x = data.test.data\n",
    "\n",
    "# get test labels\n",
    "test_labels = data.test.labels\n",
    "\n",
    "# get sample number\n",
    "n_samples = data.train.num_examples"
   ]
  },
  {
   "cell_type": "code",
   "execution_count": 3,
   "id": "737b0236",
   "metadata": {},
   "outputs": [
    {
     "data": {
      "text/plain": [
       "((84420, 310), (84420,))"
      ]
     },
     "execution_count": 3,
     "metadata": {},
     "output_type": "execute_result"
    }
   ],
   "source": [
    "print(train_x.shape, train_labels.shape)"
   ]
  },
  {
   "cell_type": "code",
   "execution_count": 4,
   "id": "167814ee",
   "metadata": {},
   "outputs": [
    {
     "data": {
      "text/plain": [
       "((58128, 310), (58128,))"
      ]
     },
     "execution_count": 4,
     "metadata": {},
     "output_type": "execute_result"
    }
   ],
   "source": [
    "print(test_x.shape, test_labels.shape)"
   ]
  },
  {
   "cell_type": "code",
   "execution_count": 5,
   "id": "8a331557",
   "metadata": {},
   "outputs": [
    {
     "data": {
      "text/plain": [
       "(array([0, 1, 2], dtype=int16), array([28602, 26628, 29190], dtype=int64))"
      ]
     },
     "execution_count": 5,
     "metadata": {},
     "output_type": "execute_result"
    }
   ],
   "source": [
    "print(np.unique(train_labels, return_counts = True))"
   ]
  },
  {
   "cell_type": "code",
   "execution_count": 6,
   "id": "20199a45",
   "metadata": {},
   "outputs": [
    {
     "data": {
      "text/plain": [
       "(array([0, 1, 2], dtype=int16), array([18438, 19740, 19950], dtype=int64))"
      ]
     },
     "execution_count": 6,
     "metadata": {},
     "output_type": "execute_result"
    }
   ],
   "source": [
    "print(np.unique(test_labels, return_counts = True))"
   ]
  },
  {
   "cell_type": "code",
   "execution_count": 7,
   "id": "bebdd394",
   "metadata": {},
   "outputs": [],
   "source": [
    "# Shuffle the data\n",
    "train_x, train_labels = shuffle(train_x, train_labels, random_state=42)"
   ]
  },
  {
   "cell_type": "markdown",
   "id": "4dc27184",
   "metadata": {},
   "source": [
    "# Data Augmentation"
   ]
  },
  {
   "cell_type": "code",
   "execution_count": 8,
   "id": "dd5794e2",
   "metadata": {},
   "outputs": [],
   "source": [
    "from skimage.util import random_noise\n",
    "from sklearn.preprocessing import scale"
   ]
  },
  {
   "cell_type": "code",
   "execution_count": 9,
   "id": "22b645bd",
   "metadata": {},
   "outputs": [
    {
     "name": "stdout",
     "output_type": "stream",
     "text": [
      "[28602 26628 29190]\n",
      "29190\n",
      "Total Time Taken for data augmentation: 00:00:00\n"
     ]
    }
   ],
   "source": [
    "start_time = time.time()\n",
    "\n",
    "# Add random noise to DE values\n",
    "# augmented_data = random_noise(principalComponents, mode='gaussian', mean=0, var=0.01)\n",
    "\n",
    "# Scale DE values by a random factor\n",
    "# augmented_data = principalComponents * np.random.uniform(0.5, 1.5, size=principalComponents.shape)\n",
    "# Standardize the scaled DE values\n",
    "# augmented_data = scale(augmented_data)\n",
    "\n",
    "# Add a random offset to the DE values\n",
    "# augmented_data = train_x + np.random.normal(0, 0.1, size=train_x.shape)\n",
    "\n",
    "# Determine the class with the largest number of samples\n",
    "class_counts = np.bincount(train_labels)\n",
    "print(class_counts)\n",
    "largest_class_count = np.max(class_counts)\n",
    "print(largest_class_count)\n",
    "\n",
    "# Calculate the number of new samples to generate for each class\n",
    "new_sample_counts = [largest_class_count - count for count in class_counts]\n",
    "\n",
    "# For each class, randomly sample with replacement from its samples to create new samples\n",
    "for i in range(len(new_sample_counts)):\n",
    "    if new_sample_counts[i] > 0:\n",
    "        new_samples = np.random.choice(np.where(train_labels == i)[0], size=new_sample_counts[i], replace=True)\n",
    "        train_x = np.concatenate((train_x, train_x[new_samples]), axis=0)\n",
    "        train_labels = np.concatenate((train_labels, np.full((new_sample_counts[i],), i)), axis=0)\n",
    "\n",
    "seconds = time.time() - start_time\n",
    "print('Total Time Taken for data augmentation:', time.strftime(\"%H:%M:%S\",time.gmtime(seconds)))"
   ]
  },
  {
   "cell_type": "code",
   "execution_count": 10,
   "id": "331ab6eb",
   "metadata": {},
   "outputs": [
    {
     "data": {
      "text/plain": [
       "(array([0, 1, 2]), array([29190, 29190, 29190], dtype=int64))"
      ]
     },
     "execution_count": 10,
     "metadata": {},
     "output_type": "execute_result"
    }
   ],
   "source": [
    "print(np.unique(train_labels, return_counts = True))"
   ]
  },
  {
   "cell_type": "markdown",
   "id": "80832071",
   "metadata": {},
   "source": [
    "# PCA / Feature extraction"
   ]
  },
  {
   "cell_type": "code",
   "execution_count": 11,
   "id": "99844833",
   "metadata": {},
   "outputs": [],
   "source": [
    "from sklearn.preprocessing import StandardScaler\n",
    "from sklearn.decomposition import PCA\n",
    "import pandas as pd"
   ]
  },
  {
   "cell_type": "code",
   "execution_count": 13,
   "id": "9f9c4e97",
   "metadata": {},
   "outputs": [],
   "source": [
    "train_x = StandardScaler().fit_transform(train_x)\n",
    "test_x = StandardScaler().fit_transform(test_x)"
   ]
  },
  {
   "cell_type": "code",
   "execution_count": 14,
   "id": "7534042e",
   "metadata": {},
   "outputs": [],
   "source": [
    "start_time = time.time()"
   ]
  },
  {
   "cell_type": "code",
   "execution_count": 15,
   "id": "a49f583d",
   "metadata": {},
   "outputs": [
    {
     "name": "stdout",
     "output_type": "stream",
     "text": [
      "Total Time Taken for PCA: 00:00:15\n"
     ]
    }
   ],
   "source": [
    "from sklearn.decomposition import PCA\n",
    "pca = PCA(n_components = 145)\n",
    "principalComponents = pca.fit_transform(train_x)\n",
    "test_principalComponents = pca.transform(test_x)\n",
    "seconds = time.time() - start_time\n",
    "print('Total Time Taken for PCA:', time.strftime(\"%H:%M:%S\",time.gmtime(seconds)))"
   ]
  },
  {
   "cell_type": "markdown",
   "id": "74c991f4",
   "metadata": {},
   "source": [
    "# Training the SVM Model"
   ]
  },
  {
   "cell_type": "code",
   "execution_count": 16,
   "id": "96dc8451",
   "metadata": {},
   "outputs": [
    {
     "name": "stdout",
     "output_type": "stream",
     "text": [
      "Total Time Taken for model training: 00:09:11\n"
     ]
    }
   ],
   "source": [
    "start_time = time.time()\n",
    "poly = svm.SVC(kernel='poly', degree=3, C=1, decision_function_shape='ovo').fit(principalComponents, train_labels)\n",
    "seconds = time.time() - start_time\n",
    "print('Total Time Taken for model training:', time.strftime(\"%H:%M:%S\",time.gmtime(seconds)))"
   ]
  },
  {
   "cell_type": "markdown",
   "id": "9c44e24f",
   "metadata": {},
   "source": [
    "# Testing the model"
   ]
  },
  {
   "cell_type": "code",
   "execution_count": 17,
   "id": "616bf353",
   "metadata": {},
   "outputs": [],
   "source": [
    "poly_prediction = poly.predict(test_principalComponents)"
   ]
  },
  {
   "cell_type": "code",
   "execution_count": 18,
   "id": "150e2f01",
   "metadata": {},
   "outputs": [],
   "source": [
    "accuracy_poly = poly.score(test_principalComponents, test_labels)"
   ]
  },
  {
   "cell_type": "code",
   "execution_count": 19,
   "id": "0e002588",
   "metadata": {},
   "outputs": [
    {
     "name": "stdout",
     "output_type": "stream",
     "text": [
      "Testing accuracy: 0.7855250481695568\n"
     ]
    }
   ],
   "source": [
    "print(f'Testing accuracy: {accuracy_poly}')"
   ]
  },
  {
   "cell_type": "code",
   "execution_count": 26,
   "id": "f9cb11f0",
   "metadata": {},
   "outputs": [
    {
     "data": {
      "image/png": "[encoded data removed]",
      "text/plain": [
       "<Figure size 576x432 with 1 Axes>"
      ]
     },
     "metadata": {
      "needs_background": "light"
     },
     "output_type": "display_data"
    }
   ],
   "source": [
    "from mlxtend.plotting import plot_decision_regions\n",
    "feature_values = {i:np.mean(principalComponents[:, i]) for i in range(2, 145)} \n",
    "feature_width = {i:1 for i in range(2, 145)}  \n",
    "plt.figure(figsize=(8, 6))\n",
    "plot_decision_regions(principalComponents, train_labels, poly, legend=2, filler_feature_values=feature_values,\n",
    "                      filler_feature_ranges=feature_width)\n",
    "plt.title(\"SVM Decision Boundary\")\n",
    "plt.show()"
   ]
  },
  {
   "cell_type": "code",
   "execution_count": null,
   "id": "6ed7411c",
   "metadata": {},
   "outputs": [],
   "source": []
  }
 ],
 "metadata": {
  "kernelspec": {
   "display_name": "Python 3 (ipykernel)",
   "language": "python",
   "name": "python3"
  },
  "language_info": {
   "codemirror_mode": {
    "name": "ipython",
    "version": 3
   },
   "file_extension": ".py",
   "mimetype": "text/x-python",
   "name": "python",
   "nbconvert_exporter": "python",
   "pygments_lexer": "ipython3",
   "version": "3.8.12"
  }
 },
 "nbformat": 4,
 "nbformat_minor": 5
}
